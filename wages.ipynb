{
 "cells": [
  {
   "cell_type": "code",
   "execution_count": 2,
   "id": "e9323c75-025c-4a01-a709-9298db88afc3",
   "metadata": {},
   "outputs": [],
   "source": [
    "import geopandas as gpd\n",
    "import pandas as pd\n",
    "import matplotlib.pyplot as plt"
   ]
  },
  {
   "cell_type": "code",
   "execution_count": 3,
   "id": "ad0d9cef-84e8-4035-9b17-2bcf1d733227",
   "metadata": {},
   "outputs": [],
   "source": [
    "file_path = 'Wages By State.csv'"
   ]
  },
  {
   "cell_type": "code",
   "execution_count": 4,
   "id": "f4de6ecd-0dfc-4565-ad0c-4398707e5086",
   "metadata": {},
   "outputs": [],
   "source": [
    "df = pd.read_csv(file_path)"
   ]
  },
  {
   "cell_type": "code",
   "execution_count": 5,
   "id": "c2cab694-645d-490f-939c-ff506bf72a92",
   "metadata": {},
   "outputs": [
    {
     "name": "stdout",
     "output_type": "stream",
     "text": [
      "                   State Establishments Employment  Percent Change  \\\n",
      "0               Alabama           160.7    2,091.9             1.6   \n",
      "1                 Alaska           25.2      318.1             2.2   \n",
      "2               Arizona           229.4    3,257.0             2.9   \n",
      "3             California        1,835.8   18,053.0             1.5   \n",
      "4               Colorado          264.4    2,851.4             0.3   \n",
      "5           Connecticut           149.5    1,661.9             1.0   \n",
      "6               Delaware           43.0      469.3             1.8   \n",
      "7   District of Columbia           52.3      759.8             0.7   \n",
      "8               Florida           898.9    9,863.2             2.1   \n",
      "9               Georgia           401.4    4,843.9             1.3   \n",
      "10                Hawaii           58.6      638.8             0.6   \n",
      "11                Idaho            98.5      835.8             1.9   \n",
      "12             Illinois           410.2    5,966.9             0.3   \n",
      "13              Indiana           195.2    3,148.3             0.6   \n",
      "14                 Iowa           110.8    1,543.1             0.9   \n",
      "15               Kansas           100.7    1,415.7             0.7   \n",
      "16             Kentucky           155.8    1,987.2             1.4   \n",
      "17            Louisiana           154.5    1,904.2             0.7   \n",
      "18                Maine            65.0      626.4             1.4   \n",
      "19             Maryland           198.4    2,690.0             0.7   \n",
      "20        Massachusetts           287.4    3,599.0             1.3   \n",
      "21              Michigan          338.6    4,351.0             0.8   \n",
      "22             Minnesota          210.5    2,850.4             0.5   \n",
      "23          Mississippi            89.5    1,157.2             1.0   \n",
      "24              Missouri          257.5    2,882.5             0.2   \n",
      "25               Montana           61.8      503.1             1.0   \n",
      "26              Nebraska           76.0    1,007.3             1.2   \n",
      "27               Nevada           112.1    1,534.4             1.5   \n",
      "28        New Hampshire            65.9      680.0             2.4   \n",
      "29           New Jersey           335.6    4,218.8             1.1   \n",
      "30           New Mexico            67.9      861.5             1.3   \n",
      "31              New York          709.5    9,537.4             1.6   \n",
      "32        North Carolina          395.7    4,871.0             1.8   \n",
      "33          North Dakota           36.1      419.9             1.8   \n",
      "34                  Ohio          337.0    5,452.8             1.6   \n",
      "35             Oklahoma           132.0    1,690.0             0.8   \n",
      "36                Oregon          198.8    1,971.9            -0.3   \n",
      "37         Pennsylvania           392.0      5,967             1.7   \n",
      "38         Rhode Island            48.5      483.9             1.1   \n",
      "39       South Carolina           184.6    2,265.9             1.1   \n",
      "40          South Dakota           39.9    449.7\\n             2.1   \n",
      "41             Tennessee          230.1    3,261.3             2.0   \n",
      "42                Texas           839.6   13,826.9             1.9   \n",
      "43                 Utah           135.7    1,699.6             1.7   \n",
      "44               Vermont           32.8      307.3             1.9   \n",
      "45             Virginia           318.3    4,072.6             0.6   \n",
      "46           Washington           224.3    3,577.3             1.6   \n",
      "47        West Virginia            60.8      694.0             1.3   \n",
      "48            Wisconsin           206.0    2,899.1             1.6   \n",
      "49              Wyoming            30.8      274.1             1.1   \n",
      "\n",
      "   Average Weekly Wages  Percent Change   \n",
      "0                 1,201              3.3  \n",
      "1                 1,374              5.6  \n",
      "2                 1,372              5.6  \n",
      "3                 1,833              5.5  \n",
      "4                 1,613              3.5  \n",
      "5                 1,908              4.4  \n",
      "6                 1,484              3.7  \n",
      "7                 2,434              4.0  \n",
      "8                 1,384              4.2  \n",
      "9                 1,441              4.7  \n",
      "10                1,278              4.8  \n",
      "11                1,201              4.1  \n",
      "12                1,374              2.7  \n",
      "13                1,372              5.7  \n",
      "14                1,171              3.2  \n",
      "15                1,833              3.8  \n",
      "16                1,613              3.4  \n",
      "17                1,908              4.0  \n",
      "18                1,484              5.2  \n",
      "19                2,343              4.5  \n",
      "20                1,384              4.9  \n",
      "21                1,441              3.5  \n",
      "22                1,278              4.0  \n",
      "23                1,130              3.6  \n",
      "24                1,608              3.7  \n",
      "25                1,271              4.4  \n",
      "26                1,271              2.6  \n",
      "27                1,214              4.7  \n",
      "28                1,199              4.7  \n",
      "29                1,178              3.5  \n",
      "30                1,195              4.8  \n",
      "31                1,249              3.5  \n",
      "32                1,591              4.0  \n",
      "33                2,015              3.7  \n",
      "34                1,352              4.0  \n",
      "35                1,519              4.0  \n",
      "36                  980              3.1  \n",
      "37                1,269              3.0  \n",
      "38                1,126              4.0  \n",
      "39                1,195              4.9  \n",
      "40                1,304              4.2  \n",
      "41                1,531              3.5  \n",
      "42                1,761              4.1  \n",
      "43                1,540              5.2  \n",
      "44                1,313              3.6  \n",
      "45                1,232              5.2  \n",
      "46                1,554              5.1  \n",
      "47                1,815              4.6  \n",
      "48                1,110              4.5  \n",
      "49                1,177              2.8  \n"
     ]
    }
   ],
   "source": [
    "print(df)"
   ]
  }
 ],
 "metadata": {
  "kernelspec": {
   "display_name": "Python 3 (ipykernel)",
   "language": "python",
   "name": "python3"
  },
  "language_info": {
   "codemirror_mode": {
    "name": "ipython",
    "version": 3
   },
   "file_extension": ".py",
   "mimetype": "text/x-python",
   "name": "python",
   "nbconvert_exporter": "python",
   "pygments_lexer": "ipython3",
   "version": "3.12.6"
  }
 },
 "nbformat": 4,
 "nbformat_minor": 5
}
